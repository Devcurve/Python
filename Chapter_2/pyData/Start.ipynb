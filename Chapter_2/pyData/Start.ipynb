{
 "cells": [
  {
   "cell_type": "code",
   "execution_count": 31,
   "id": "37f2f651",
   "metadata": {},
   "outputs": [
    {
     "name": "stdout",
     "output_type": "stream",
     "text": [
      "홍길동\n",
      "False\n",
      "4\n",
      "{'name': '홍길동', 'phone': '010-1234-5678', 'age': '25', 'job': 'student'}\n",
      "25\n",
      "dict_items([('name', '홍길동'), ('phone', '010-1234-5678'), ('age', '25'), ('job', 'student')])\n",
      "dict_keys(['name', 'phone', 'age', 'job'])\n",
      "dict_values(['홍길동', '010-1234-5678', '25', 'student'])\n",
      "{}\n"
     ]
    }
   ],
   "source": [
    "dict = {\n",
    "    \"name\": \"홍길동\",\n",
    "    \"phone\": \"010-1234-5678\",\n",
    "    \"age\": \"25\",\n",
    "    \"region\": \"Busan\"\n",
    "}\n",
    "\n",
    "#키에 해당하는 값을 반환\n",
    "name = dict.__getitem__(\"name\")\n",
    "print(name)\n",
    "# 홍길동\n",
    "\n",
    "# \"job\"키와 \"student\"값을 dictionary에 추가\n",
    "dict.__setitem__(\"job\", \"student\")\n",
    "\n",
    "# \"region\"키와 값을 dictionary에서 제거\n",
    "dict.__delitem__(\"region\")\n",
    "\n",
    "\n",
    "# \"region\"키가 dictionary에 있는지 확인\n",
    "check = dict.__contains__(\"region\")\n",
    "print(check)\n",
    "# False\n",
    "\n",
    "\n",
    "#dictionary의 크기를 반환\n",
    "print(dict.__len__())\n",
    "# 4\n",
    "\n",
    "\n",
    "#dictionary의 복사본을 생성\n",
    "temp = dict.copy()\n",
    "print(temp)\n",
    "# {'name': '홍길동', 'phone': '010-1234-5678', 'age': '25', 'job': 'student'}\n",
    "\n",
    "\n",
    "#키에 해당하는 값을 반환하고, 키가 없으면 기본값을 반환합니다.\n",
    "age = dict.get(\"age\")\n",
    "print(age)\n",
    "# 25\n",
    "\n",
    "#키와 값의 튜플을 반환\n",
    "items = dict.items()\n",
    "print(items)\n",
    "# dict_items([('name', '홍길동'), ('phone', '010-1234-5678'), ('age', '25'), ('job', 'student')])\n",
    "\n",
    "\n",
    "#키의 리스트를 반환\n",
    "print(dict.keys())\n",
    "# dict_keys(['name', 'phone', 'age', 'job'])\n",
    "\n",
    "\n",
    "#값의 리스트를 반환\n",
    "print(dict.values())\n",
    "# dict_values(['홍길동', '010-1234-5678', '25', 'student'])\n",
    "\n",
    "\n",
    "#dictionary를 비운다.\n",
    "dict.clear()\n",
    "# 모든 데이터가 삭제 됨\n",
    "\n",
    "# 삭제 되었는지 확인.\n",
    "print(dict)"
   ]
  },
  {
   "cell_type": "code",
   "execution_count": null,
   "id": "a52f2aa3",
   "metadata": {},
   "outputs": [],
   "source": []
  }
 ],
 "metadata": {
  "kernelspec": {
   "display_name": "Python 3 (ipykernel)",
   "language": "python",
   "name": "python3"
  },
  "language_info": {
   "codemirror_mode": {
    "name": "ipython",
    "version": 3
   },
   "file_extension": ".py",
   "mimetype": "text/x-python",
   "name": "python",
   "nbconvert_exporter": "python",
   "pygments_lexer": "ipython3",
   "version": "3.10.9"
  }
 },
 "nbformat": 4,
 "nbformat_minor": 5
}
