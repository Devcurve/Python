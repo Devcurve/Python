{
 "cells": [
  {
   "cell_type": "code",
   "execution_count": 12,
   "id": "a36163e4",
   "metadata": {
    "scrolled": true
   },
   "outputs": [
    {
     "name": "stdout",
     "output_type": "stream",
     "text": [
      "이름을 입력하세요: 홍길동\n",
      "안녕하세요, 저는 홍길동 입니다. \n"
     ]
    }
   ],
   "source": [
    "name = input(\"이름을 입력하세요: \")\n",
    "greeting = \"안녕하세요, 저는 \" + name + \" 입니다. \"\n",
    "print(greeting)"
   ]
  },
  {
   "cell_type": "code",
   "execution_count": null,
   "id": "5bb1bfb9",
   "metadata": {},
   "outputs": [],
   "source": []
  },
  {
   "cell_type": "code",
   "execution_count": 14,
   "id": "46a403b6",
   "metadata": {},
   "outputs": [
    {
     "name": "stdout",
     "output_type": "stream",
     "text": [
      "False\n"
     ]
    }
   ],
   "source": [
    "b = False\n",
    "print(b)"
   ]
  },
  {
   "cell_type": "code",
   "execution_count": 16,
   "id": "462d2b13",
   "metadata": {},
   "outputs": [
    {
     "name": "stdout",
     "output_type": "stream",
     "text": [
      "True\n"
     ]
    }
   ],
   "source": [
    "print(1 < 3)"
   ]
  },
  {
   "cell_type": "code",
   "execution_count": 18,
   "id": "edae732a",
   "metadata": {},
   "outputs": [
    {
     "name": "stdout",
     "output_type": "stream",
     "text": [
      "첫 번째 정수를 입력하세요: 10\n",
      "두 번째 정수를 입력하세요: 20\n",
      "세 번째 정수를 입력하세요: 30\n",
      "['10', '20', '30']\n"
     ]
    }
   ],
   "source": [
    "# List를 생성 합니다.\n",
    "# 리스트는 대괄호로 초기값을 셋팅 합니다.\n",
    "numbers = []\n",
    "\n",
    "# 몃번의 입력을 받을지 정합니다.\n",
    "numbers.append(input(\"첫 번째 정수를 입력하세요: \"))\n",
    "numbers.append(input(\"두 번째 정수를 입력하세요: \"))\n",
    "numbers.append(input(\"세 번째 정수를 입력하세요: \"))\n",
    "\n",
    "# 결과를 확인 합니다.  \n",
    "print(numbers)"
   ]
  }
 ],
 "metadata": {
  "kernelspec": {
   "display_name": "Python 3 (ipykernel)",
   "language": "python",
   "name": "python3"
  },
  "language_info": {
   "codemirror_mode": {
    "name": "ipython",
    "version": 3
   },
   "file_extension": ".py",
   "mimetype": "text/x-python",
   "name": "python",
   "nbconvert_exporter": "python",
   "pygments_lexer": "ipython3",
   "version": "3.11.3"
  }
 },
 "nbformat": 4,
 "nbformat_minor": 5
}
