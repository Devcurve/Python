{
 "cells": [
  {
   "cell_type": "code",
   "execution_count": 12,
   "id": "7efa84f3",
   "metadata": {},
   "outputs": [],
   "source": [
    "with open('myfile.txt', 'w') as file:\n",
    "    file.write(\"홍길동\\n\")"
   ]
  },
  {
   "cell_type": "code",
   "execution_count": 13,
   "id": "fec7f906",
   "metadata": {},
   "outputs": [],
   "source": [
    "# 파일에 내용 추가\n",
    "with open('myfile.txt', 'a') as file:\n",
    "    file.write(\"임꺽정\\n\")"
   ]
  },
  {
   "cell_type": "code",
   "execution_count": 14,
   "id": "5bc18b2f",
   "metadata": {},
   "outputs": [
    {
     "name": "stdout",
     "output_type": "stream",
     "text": [
      "홍길동\n",
      "임꺽정\n",
      "\n"
     ]
    }
   ],
   "source": [
    "with open('myfile.txt', 'r') as file:\n",
    "    content = file.read()\n",
    "print(content)"
   ]
  },
  {
   "cell_type": "code",
   "execution_count": 2,
   "id": "ef1a6585",
   "metadata": {},
   "outputs": [
    {
     "name": "stdout",
     "output_type": "stream",
     "text": [
      "Hello, World!\n",
      "추가된 내용\n",
      "\n"
     ]
    }
   ],
   "source": [
    "import os\n",
    "\n",
    "# 확인용\n",
    "count = 0\n",
    "\n",
    "# 디렉토리 경로\n",
    "filePath = \"../data\"\n",
    "\n",
    "# 디렉토리가 없는 경우 디렉토리 생성\n",
    "os.makedirs(filePath, exist_ok=True)\n",
    "\n",
    "# 파일 이름\n",
    "fileName = \"myfile.txt\"\n",
    "\n",
    "# 파일 경로\n",
    "filePath = os.path.join(filePath, fileName)\n",
    "\n",
    "# 파일에 쓰기\n",
    "with open(filePath, 'w') as file:\n",
    "    file.write(\"Hello, World!\\n\")\n",
    "\n",
    "# 파일에 내용 추가\n",
    "with open(filePath, 'a') as file:\n",
    "    file.write(\"추가된 내용\\n\")\n",
    "\n",
    "# 파일 읽기\n",
    "with open(filePath, 'r') as file:\n",
    "    content = file.read()\n",
    "    \n",
    "print(content)\n"
   ]
  },
  {
   "cell_type": "code",
   "execution_count": 198,
   "id": "6d2270b3",
   "metadata": {},
   "outputs": [
    {
     "name": "stdout",
     "output_type": "stream",
     "text": [
      "[5, 8, 17, 23, 25, 29]\n",
      "[6, 7, 18, 33, 36, 44]\n",
      "[1, 16, 35, 41, 43, 45]\n",
      "[9, 15, 17, 20, 30, 40]\n",
      "[3, 19, 20, 27, 30, 41]\n"
     ]
    }
   ],
   "source": [
    "import random\n",
    "\n",
    "# 최대 개수\n",
    "MAX = 6\n",
    "\n",
    "# 리스트를 초기화 한뒤 값을 넘겨준다.\n",
    "numbers = list(range(1, 46))\n",
    "\n",
    "for i in range(1, 6):\n",
    "    # 로또 번호 리스트\n",
    "    selected_numbers = []\n",
    "\n",
    "    # 난수 생성 : 리스트의 포함된 원소 개수가 6보다 작을때에만 반복 \n",
    "    while len(selected_numbers) < MAX:\n",
    "        \n",
    "        # 난수를 생성\n",
    "        num =  random.randrange(1, 46)\n",
    "        count +=1\n",
    "        # 생성된 난수가 리스트에 포함되어있는지 확인.\n",
    "        if num not in selected_numbers:\n",
    "            # 포함되지 않았다면 추가.\n",
    "            selected_numbers.append(num)\n",
    "    # 6개의 숫자가 모두 추가되었다면 정렬(오름차순)\n",
    "    selected_numbers.sort()\n",
    "    \n",
    "    # 출력\n",
    "    print(selected_numbers)\n",
    "# --------- for 에서 총 5번을 진행 ---------"
   ]
  },
  {
   "cell_type": "code",
   "execution_count": 202,
   "id": "86929665",
   "metadata": {},
   "outputs": [
    {
     "name": "stdout",
     "output_type": "stream",
     "text": [
      "Requirement already satisfied: requests in c:\\users\\ggg\\anaconda3\\lib\\site-packages (2.28.1)\n",
      "Requirement already satisfied: charset-normalizer<3,>=2 in c:\\users\\ggg\\anaconda3\\lib\\site-packages (from requests) (2.0.4)\n",
      "Requirement already satisfied: urllib3<1.27,>=1.21.1 in c:\\users\\ggg\\anaconda3\\lib\\site-packages (from requests) (1.26.14)\n",
      "Requirement already satisfied: certifi>=2017.4.17 in c:\\users\\ggg\\anaconda3\\lib\\site-packages (from requests) (2022.12.7)\n",
      "Requirement already satisfied: idna<4,>=2.5 in c:\\users\\ggg\\anaconda3\\lib\\site-packages (from requests) (3.4)\n",
      "Note: you may need to restart the kernel to use updated packages.\n"
     ]
    }
   ],
   "source": [
    "pip install requests # python과 웹을 연결하기 위한 라이브러리 설치"
   ]
  },
  {
   "cell_type": "code",
   "execution_count": 203,
   "id": "b45f4400",
   "metadata": {},
   "outputs": [
    {
     "name": "stdout",
     "output_type": "stream",
     "text": [
      "Requirement already satisfied: Beautifulsoup4 in c:\\users\\ggg\\anaconda3\\lib\\site-packages (4.11.1)\n",
      "Requirement already satisfied: soupsieve>1.2 in c:\\users\\ggg\\anaconda3\\lib\\site-packages (from Beautifulsoup4) (2.3.2.post1)\n",
      "Note: you may need to restart the kernel to use updated packages.\n"
     ]
    }
   ],
   "source": [
    "pip install Beautifulsoup4 # html, css 코드에서 원하는 값을 추출 해주는 라이브러리"
   ]
  },
  {
   "cell_type": "code",
   "execution_count": 204,
   "id": "1e151a65",
   "metadata": {
    "scrolled": true
   },
   "outputs": [
    {
     "name": "stdout",
     "output_type": "stream",
     "text": [
      "Requirement already satisfied: pip in c:\\users\\ggg\\anaconda3\\lib\\site-packages (22.3.1)\n",
      "Collecting pip\n",
      "  Downloading pip-23.2.1-py3-none-any.whl (2.1 MB)\n",
      "     ---------------------------------------- 2.1/2.1 MB 12.1 MB/s eta 0:00:00\n",
      "Installing collected packages: pip\n",
      "  Attempting uninstall: pip\n",
      "    Found existing installation: pip 22.3.1\n",
      "    Uninstalling pip-22.3.1:\n",
      "      Successfully uninstalled pip-22.3.1\n",
      "Successfully installed pip-23.2.1\n",
      "Note: you may need to restart the kernel to use updated packages.\n"
     ]
    }
   ],
   "source": [
    " pip install --upgrade pip # 위 라리브러리가 설치 되지 않는다면 pip 업그레이드가 필요."
   ]
  },
  {
   "cell_type": "code",
   "execution_count": 205,
   "id": "597d5eaf",
   "metadata": {},
   "outputs": [
    {
     "name": "stdout",
     "output_type": "stream",
     "text": [
      "pip 23.2.1 from C:\\Users\\GGG\\anaconda3\\lib\\site-packages\\pip (python 3.10)\n",
      "\n",
      "Note: you may need to restart the kernel to use updated packages.\n"
     ]
    }
   ],
   "source": [
    " pip --version # 버전확인 "
   ]
  },
  {
   "cell_type": "code",
   "execution_count": 206,
   "id": "860298f4",
   "metadata": {},
   "outputs": [
    {
     "name": "stdout",
     "output_type": "stream",
     "text": [
      "Requirement already satisfied: numpy in c:\\users\\ggg\\anaconda3\\lib\\site-packages (1.23.5)Note: you may need to restart the kernel to use updated packages.\n",
      "\n"
     ]
    }
   ],
   "source": [
    "pip install numpy"
   ]
  },
  {
   "cell_type": "code",
   "execution_count": 215,
   "id": "61f8486a",
   "metadata": {},
   "outputs": [
    {
     "name": "stdout",
     "output_type": "stream",
     "text": [
      "<div class=\"nums\">\n",
      "<div class=\"num win\">\n",
      "<strong>당첨번호</strong>\n",
      "<p>\n",
      "<span class=\"ball_645 lrg ball1\">10</span>\n",
      "<span class=\"ball_645 lrg ball3\">23</span>\n",
      "<span class=\"ball_645 lrg ball3\">29</span>\n",
      "<span class=\"ball_645 lrg ball4\">33</span>\n",
      "<span class=\"ball_645 lrg ball4\">37</span>\n",
      "<span class=\"ball_645 lrg ball4\">40</span>\n",
      "</p>\n",
      "</div>\n",
      "<div class=\"num bonus\">\n",
      "<strong>보너스</strong>\n",
      "<p><span class=\"ball_645 lrg ball2\">16</span></p>\n",
      "</div>\n",
      "</div>\n"
     ]
    }
   ],
   "source": [
    "import requests\n",
    "from bs4 import BeautifulSoup\n",
    "import numpy\n",
    "\n",
    "count = 1\n",
    "url = f\"https://www.dhlottery.co.kr/gameResult.do?method=byWin&drwNo={count}\"\n",
    "response = requests.get(url)\n",
    "#print(response.text)\n",
    "\n",
    "parser = BeautifulSoup(response.text, 'html.parser')\n",
    "#print(parser)\n",
    "\n",
    "nums = parser.find('div', {'class': 'nums'})\n",
    "print(nums)\n"
   ]
  }
 ],
 "metadata": {
  "kernelspec": {
   "display_name": "Python 3 (ipykernel)",
   "language": "python",
   "name": "python3"
  },
  "language_info": {
   "codemirror_mode": {
    "name": "ipython",
    "version": 3
   },
   "file_extension": ".py",
   "mimetype": "text/x-python",
   "name": "python",
   "nbconvert_exporter": "python",
   "pygments_lexer": "ipython3",
   "version": "3.10.9"
  }
 },
 "nbformat": 4,
 "nbformat_minor": 5
}
