{
 "cells": [
  {
   "cell_type": "code",
   "execution_count": 16,
   "id": "b697f908",
   "metadata": {
    "scrolled": true
   },
   "outputs": [
    {
     "name": "stdout",
     "output_type": "stream",
     "text": [
      "이름을 입력하세요: 홍길동\n",
      "안녕하세요, 저는 홍길동 입니다. \n",
      "<class 'str'>\n"
     ]
    }
   ],
   "source": [
    "#문자열\n",
    "name = input(\"이름을 입력하세요: \")\n",
    "greeting = \"안녕하세요, 저는 \" + name + \" 입니다. \"\n",
    "print(greeting)\n",
    "print(type(greeting))"
   ]
  },
  {
   "cell_type": "code",
   "execution_count": 11,
   "id": "6d455814",
   "metadata": {},
   "outputs": [
    {
     "name": "stdout",
     "output_type": "stream",
     "text": [
      "두 정수의 합: 8\n"
     ]
    }
   ],
   "source": [
    "# 두 정수의 합 구하기\n",
    "\n",
    "# 두 개의 정수를 변수에 저장합니다.\n",
    "num1 = 5\n",
    "num2 = 3\n",
    "\n",
    "# 두 정수를 더하여 결과를 저장하는 변수를 만듭니다.\n",
    "sum_result = num1 + num2\n",
    "\n",
    "# 결과를 출력합니다.\n",
    "print(\"두 정수의 합:\", sum_result)"
   ]
  },
  {
   "cell_type": "code",
   "execution_count": 12,
   "id": "ab352023",
   "metadata": {},
   "outputs": [
    {
     "name": "stdout",
     "output_type": "stream",
     "text": [
      "첫 번째 정수를 입력하세요: 10\n",
      "두 번째 정수를 입력하세요: 3\n",
      "두 정수의 합은: 13\n"
     ]
    }
   ],
   "source": [
    "# 두 정수를 입력받고 합 구하기\n",
    "\n",
    "# 두 개의 정수를 입력받아 변수에 저장합니다.\n",
    "num1 = int(input(\"첫 번째 정수를 입력하세요: \"))\n",
    "num2 = int(input(\"두 번째 정수를 입력하세요: \"))\n",
    "\n",
    "# 두 정수를 더하여 결과를 저장하는 변수를 만듭니다.\n",
    "sum_result = num1 + num2\n",
    "\n",
    "# 결과를 출력합니다.\n",
    "print(\"두 정수의 합은:\", sum_result)"
   ]
  },
  {
   "cell_type": "code",
   "execution_count": 14,
   "id": "106f046e",
   "metadata": {},
   "outputs": [
    {
     "name": "stdout",
     "output_type": "stream",
     "text": [
      "첫 번째 정수를 입력하세요: 2.0\n",
      "두 번째 정수를 입력하세요: 1.14\n",
      "두 정수의 합은: 3.1399999999999997\n"
     ]
    }
   ],
   "source": [
    "# 두 정수를 입력받고 합 구하기\n",
    "\n",
    "num1 = float(input(\"첫 번째 정수를 입력하세요: \"))\n",
    "num2 = float(input(\"두 번째 정수를 입력하세요: \"))\n",
    "\n",
    "# 두 정수를 더하여 결과를 저장하는 변수를 만듭니다.\n",
    "sum_result = num1 + num2\n",
    "\n",
    "# 결과를 출력합니다.\n",
    "print(\"두 정수의 합은:\", sum_result)"
   ]
  },
  {
   "cell_type": "code",
   "execution_count": 15,
   "id": "77ca347e",
   "metadata": {},
   "outputs": [
    {
     "name": "stdout",
     "output_type": "stream",
     "text": [
      "True\n",
      "False\n"
     ]
    }
   ],
   "source": [
    "# Boolean\n",
    "\n",
    "result = True\n",
    "print(result)\n",
    "\n",
    "result = False\n",
    "print(result)"
   ]
  },
  {
   "cell_type": "code",
   "execution_count": 19,
   "id": "aff3511a",
   "metadata": {},
   "outputs": [
    {
     "name": "stdout",
     "output_type": "stream",
     "text": [
      "첫 번째 정수를 입력하세요: 20\n",
      "두 번째 정수를 입력하세요: 10\n",
      "False\n"
     ]
    }
   ],
   "source": [
    "# Boolean\n",
    "# 두 개의 정수를 입력받아 변수에 저장합니다.\n",
    "num1 = int(input(\"첫 번째 정수를 입력하세요: \"))\n",
    "num2 = int(input(\"두 번째 정수를 입력하세요: \"))\n",
    "\n",
    "# 서로의 값을 비교하여 True & False 를 반환 합니다.\n",
    "print(num1 < num2)"
   ]
  },
  {
   "cell_type": "code",
   "execution_count": 20,
   "id": "08d102e9",
   "metadata": {},
   "outputs": [
    {
     "name": "stdout",
     "output_type": "stream",
     "text": [
      "첫 번째 정수를 입력하세요: 10\n",
      "두 번째 정수를 입력하세요: 20\n",
      "세 번째 정수를 입력하세요: 30\n",
      "['10', '20', '30']\n"
     ]
    }
   ],
   "source": [
    "# List \n",
    "numbers = []\n",
    "\n",
    "# 몃번의 입력을 받을지 정합니다.\n",
    "numbers.append(input(\"첫 번째 정수를 입력하세요: \"))\n",
    "numbers.append(input(\"두 번째 정수를 입력하세요: \"))\n",
    "numbers.append(input(\"세 번째 정수를 입력하세요: \"))\n",
    "\n",
    "# 결과를 확인 합니다.  \n",
    "print(numbers)"
   ]
  },
  {
   "cell_type": "code",
   "execution_count": 38,
   "id": "ae7496ce",
   "metadata": {},
   "outputs": [
    {
     "name": "stdout",
     "output_type": "stream",
     "text": [
      "[10, '홍길동', 3.1415926, 20, '임꺽정', 57.2957795, 30, '이몽룡', '성춘향']\n",
      "[10, '홍길동', 3.1415926, 20, '임꺽정', 57.2957795, 30, '이몽룡', '성춘향', 1, 2, 3, 4, 5]\n",
      "[10, '홍길동', 3.1415926, 15, 20, '임꺽정', 57.2957795, 30, '이몽룡', '성춘향', 1, 2, 3, 4, 5]\n",
      "[10, '홍길동', 3.1415926, 20, '임꺽정', 57.2957795, 30, '이몽룡', '성춘향', 1, 2, 3, 4, 5]\n",
      "20\n",
      "3\n",
      "1\n",
      "[10, '홍길동', 3.1415926, '임꺽정', 57.2957795, 30, '이몽룡', '성춘향', 1, 2, 3, 4, 5]\n",
      "[]\n"
     ]
    }
   ],
   "source": [
    "list = [10, \"홍길동\", 3.1415926, 20, \"임꺽정\", 57.2957795, 30, \"이몽룡\"]\n",
    "\n",
    "# 리스트의 끝에 새로운 항목을 추가\n",
    "list.append(\"성춘향\")\n",
    "print(list)\n",
    "# [10, '홍길동', 3.1415926, 20, '임꺽정', 57.2957795, 30, '이몽룡', '성춘향']\n",
    "\n",
    "\n",
    "\n",
    "# 다른 iterable(예: 리스트, 튜플)의 모든 항목을 리스트에 추가\n",
    "list.extend((1, 2, 3, 4, 5))\n",
    "print(list)\n",
    "# [10, '홍길동', 3.1415926, 20, '임꺽정', 57.2957795, 30, '이몽룡', '성춘향', 1, 2, 3, 4, 5]\n",
    "\n",
    "\n",
    "\n",
    "#지정한 인덱스 위치에 항목을 삽입\n",
    "# list.insert(index, value)\n",
    "# index = 0부터 시작한다.\n",
    "list.insert(3, 15)\n",
    "print(list)\n",
    "# [10, '홍길동', 3.1415926, 15, 20, '임꺽정', 57.2957795, 30, '이몽룡', '성춘향', 1, 2, 3, 4, 5]\n",
    "\n",
    "\n",
    "\n",
    "#리스트에서 포함된 특정 항목을 찾아 제거\n",
    "list.remove(15) # 15 제거\n",
    "print(list)\n",
    "# [10, '홍길동', 3.1415926, 20, '임꺽정', 57.2957795, 30, '이몽룡', '성춘향', 1, 2, 3, 4, 5]\n",
    "\n",
    "\n",
    "\n",
    "# 지정한 인덱스 위치의 항목을 제거하고 반환.\n",
    "pop = list.pop(3)\n",
    "print(pop)\n",
    "# 20\n",
    "\n",
    "\n",
    "\n",
    "# 리스트에서 특정 항목을 찾아 그 값의 인덱스를 반환.\n",
    "index = list.index(\"임꺽정\")\n",
    "print(index)\n",
    "# 3\n",
    "\n",
    "\n",
    "\n",
    "#리스트에서 특정 항목의 개수를 반환.\n",
    "count = list.count(\"홍길동\") # \"홍길동\" 의 개수를 확인하여 반환.\n",
    "print(count)\n",
    "# 1\n",
    "\n",
    "\n",
    "#리스트의 얕은 복사본을 생성.\n",
    "temp = list.copy()\n",
    "print(temp)\n",
    "# [10, '홍길동', 3.1415926, '임꺽정', 57.2957795, 30, '이몽룡', '성춘향', 1, 2, 3, 4, 5]\n",
    "\n",
    "\n",
    "#리스트의 모든 항목을 제거\n",
    "temp.clear()\n",
    "print(temp)\n",
    "# []"
   ]
  },
  {
   "cell_type": "code",
   "execution_count": 48,
   "id": "7affcd85",
   "metadata": {},
   "outputs": [
    {
     "name": "stdout",
     "output_type": "stream",
     "text": [
      "(('아빠', 55), ('엄마', 53), ('나', 25))\n"
     ]
    }
   ],
   "source": [
    "# Tuple\n",
    "\n",
    "# 가족 구성원의 이름과 나이를 튜플로 저장합니다.\n",
    "father = ('아빠', 55)\n",
    "mother = ('엄마', 53)\n",
    "me = ('나', 25)\n",
    "# brother\n",
    "# sister\n",
    "\n",
    "# 가족 구성원의 정보를 모아둔 튜플을 생성합니다.\n",
    "family = (father, mother, me)\n",
    "\n",
    "# 결과를 확인합니다.\n",
    "print(family)"
   ]
  },
  {
   "cell_type": "code",
   "execution_count": 53,
   "id": "d27b10d5",
   "metadata": {},
   "outputs": [
    {
     "name": "stdout",
     "output_type": "stream",
     "text": [
      "4\n",
      "2\n",
      "2\n",
      "[10, 20, 30, 40]\n",
      "(10, 20, 30, 10, 10, 20, 30, 40, 50, 60, 70, 80, 90)\n",
      "(10, 20, 30, 10, 10, 20, 30, 10, 10, 20, 30, 10)\n"
     ]
    }
   ],
   "source": [
    "numbers = (10, 20, 30)\n",
    "\n",
    "#튜플의 길이(원소의 개수)를 반환.\n",
    "print(len(numbers))\n",
    "# 3\n",
    "\n",
    "\n",
    "#튜플에서 특정 요소의 개수를 반환.\n",
    "count = numbers.count(10) # 튜플을 구성하고 있는 요소들 중 10 의 개수를 확인.\n",
    "print(count)\n",
    "# 1\n",
    "\n",
    "\n",
    "#튜플의 요소들 중 해당하는 값과 일치하는 요소의 index를 반환.\n",
    "index = numbers.index(30)\n",
    "print(index)\n",
    "# 2\n",
    "# index = 원소의 순서     예: Tuple = (10, 20, 30)  => index 10 = 0, 20 = 1, 30 = 2\n",
    "# 프로그래밍에서의 숫자는 0부터 시작한다.\n",
    "\n",
    "\n",
    "#튜플을 정렬한 새로운 리스트를 반환.\n",
    "print(sorted((30, 40, 20, 10)))\n",
    "#정렬된 리스트 <= 중요!! [리스트]를 반환!!\n",
    "\n",
    "\n",
    "# 연결된 튜플을 반환.\n",
    "result = numbers + (10, 20, 30, 40, 50, 60, 70, 80, 90)\n",
    "print(result)\n",
    "# (10, 20, 30, 10, 20, 30, 40, 50, 60, 70, 80, 90)\n",
    "\n",
    "\n",
    "# 튜플 반복하여 연결\n",
    "result = numbers * 3 # 3번 연결\n",
    "print(result)\n",
    "# (10, 20, 30, 10, 20, 30, 10, 20, 30)"
   ]
  },
  {
   "cell_type": "code",
   "execution_count": 58,
   "id": "a9f7dbfd",
   "metadata": {},
   "outputs": [
    {
     "name": "stdout",
     "output_type": "stream",
     "text": [
      "홍길동\n",
      "홍길동\n",
      "{'name': '홍길동', 'phone': '010-1234-5678', 'age': '25', 'region': 'Busan', 'job': 'student'}\n",
      "{'name': '홍길동', 'phone': '010-1234-5678', 'age': '25', 'job': 'student'}\n",
      "False\n",
      "4\n",
      "{'name': '홍길동', 'phone': '010-1234-5678', 'age': '25', 'job': 'student'}\n",
      "25\n",
      "dict_items([('name', '홍길동'), ('phone', '010-1234-5678'), ('age', '25'), ('job', 'student')])\n",
      "dict_keys(['name', 'phone', 'age', 'job'])\n",
      "dict_values(['홍길동', '010-1234-5678', '25', 'student'])\n",
      "{}\n"
     ]
    }
   ],
   "source": [
    "dict = {\n",
    "    \"name\": \"홍길동\",\n",
    "    \"phone\": \"010-1234-5678\",\n",
    "    \"age\": \"25\",\n",
    "    \"region\": \"Busan\"\n",
    "}\n",
    "\n",
    "#키에 해당하는 값을 반환\n",
    "name = dict.__getitem__(\"name\")\n",
    "print(dict[\"name\"])\n",
    "print(name)\n",
    "# 홍길동\n",
    "\n",
    "# \"job\"키와 \"student\"값을 dictionary에 추가\n",
    "dict.__setitem__(\"job\", \"student\")\n",
    "print(dict)\n",
    "\n",
    "# \"region\"키와 값을 dictionary에서 제거\n",
    "dict.__delitem__(\"region\")\n",
    "print(dict)\n",
    "\n",
    "# \"region\"키가 dictionary에 있는지 확인\n",
    "check = dict.__contains__(\"region\")\n",
    "print(check)\n",
    "# False\n",
    "\n",
    "\n",
    "#dictionary의 크기를 반환\n",
    "print(dict.__len__())\n",
    "# 4\n",
    "\n",
    "\n",
    "#dictionary의 복사본을 생성\n",
    "temp = dict.copy()\n",
    "print(temp)\n",
    "# {'name': '홍길동', 'phone': '010-1234-5678', 'age': '25', 'job': 'student'}\n",
    "\n",
    "\n",
    "#키에 해당하는 값을 반환하고, 키가 없으면 기본값을 반환합니다.\n",
    "age = dict.get(\"age\")\n",
    "print(age)\n",
    "# 25\n",
    "\n",
    "#키와 값의 튜플을 반환\n",
    "items = dict.items()\n",
    "print(items)\n",
    "# dict_items([('name', '홍길동'), ('phone', '010-1234-5678'), ('age', '25'), ('job', 'student')])\n",
    "\n",
    "\n",
    "#키의 리스트를 반환\n",
    "print(dict.keys())\n",
    "# dict_keys(['name', 'phone', 'age', 'job'])\n",
    "\n",
    "\n",
    "#값의 리스트를 반환\n",
    "print(dict.values())\n",
    "# dict_values(['홍길동', '010-1234-5678', '25', 'student'])\n",
    "\n",
    "\n",
    "#dictionary를 비운다.\n",
    "dict.clear()\n",
    "# 모든 데이터가 삭제 됨\n",
    "\n",
    "# 삭제 되었는지 확인.\n",
    "print(dict)"
   ]
  },
  {
   "cell_type": "code",
   "execution_count": null,
   "id": "8eb5dfb8",
   "metadata": {},
   "outputs": [],
   "source": []
  },
  {
   "cell_type": "code",
   "execution_count": null,
   "id": "60735401",
   "metadata": {},
   "outputs": [],
   "source": []
  },
  {
   "cell_type": "code",
   "execution_count": null,
   "id": "417ee387",
   "metadata": {},
   "outputs": [],
   "source": []
  }
 ],
 "metadata": {
  "kernelspec": {
   "display_name": "Python 3 (ipykernel)",
   "language": "python",
   "name": "python3"
  },
  "language_info": {
   "codemirror_mode": {
    "name": "ipython",
    "version": 3
   },
   "file_extension": ".py",
   "mimetype": "text/x-python",
   "name": "python",
   "nbconvert_exporter": "python",
   "pygments_lexer": "ipython3",
   "version": "3.10.9"
  }
 },
 "nbformat": 4,
 "nbformat_minor": 5
}
