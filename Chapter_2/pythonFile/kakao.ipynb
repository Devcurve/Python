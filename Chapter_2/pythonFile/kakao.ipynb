{
 "cells": [
  {
   "cell_type": "code",
   "execution_count": 1,
   "id": "fe3c8ff4",
   "metadata": {},
   "outputs": [],
   "source": [
    "import requests\n",
    "import json"
   ]
  },
  {
   "cell_type": "code",
   "execution_count": 2,
   "id": "1d2045bd",
   "metadata": {},
   "outputs": [
    {
     "name": "stdout",
     "output_type": "stream",
     "text": [
      "error! because  {'error': 'invalid_grant', 'error_description': 'authorization code not found for code=QMPSauyljZPU7_lewBrQvJWoU_0PZ8qGwf3W24ShiiOIjIOrCUQMUCRB1XHVP5-RlOWTfgo9cpgAAAGJ3v3FCw', 'error_code': 'KOE320'}\n"
     ]
    }
   ],
   "source": [
    "# 발급받은 REST API 키를 넣습니다.\n",
    "KAKAO_REST_API_KEY = \"REST API KEY\"\n",
    "\n",
    "# 카카오 로그인 페이지 URL을 생성합니다.\n",
    "#auth_url = f\"https://kauth.kakao.com/oauth/authorize?client_id={REST API KEY}&response_type=code&redirect_uri=http://localhost:8080\"\n",
    "\n",
    "\n",
    "post_url = \"https://kauth.kakao.com/oauth/token\"\n",
    "\n",
    "data = {\n",
    "    \"grant_type\" : \"authorization_code\",\n",
    "    \"client_id\" : KAKAO_REST_API_KEY,\n",
    "    \"redirect_uri\" : \"http://localhost:8080\",\n",
    "    \"code\" : \"인증코드\"\n",
    "}\n",
    "\n",
    "response = requests.post(post_url, data=data)\n",
    "\n",
    "\n",
    "\n",
    "# 요청에 실패했다면,\n",
    "if response.status_code != 200:\n",
    "    print(\"error! because \", response.json())\n",
    "else: # 성공했다면,\n",
    "    tokens = response.json()\n",
    "    print(tokens)"
   ]
  },
  {
   "cell_type": "code",
   "execution_count": 3,
   "id": "b20ee27d",
   "metadata": {},
   "outputs": [],
   "source": [
    "KAKAO_TOKEN_PATH = \"./kakao_token/token.json\"\n",
    "\n",
    "def save_token(token):\n",
    "    with open(KAKAO_TOKEN_PATH, \"w\") as file:\n",
    "        json_data = json.dumps(token)\n",
    "        file.write(json_data)\n",
    "        \n",
    "        \n",
    "def load_token():\n",
    "    with open(KAKAO_TOKEN_PATH) as file:\n",
    "        token = json.load(file)\n",
    "        return token\n",
    "\n",
    "def refresh_token():\n",
    "    token = load_token()\n",
    "    update_url = \"https://kauth.kakao.com/oauth/token\"\n",
    "    \n",
    "    data = {\n",
    "        \"grant_type\":\"refresh_token\",\n",
    "        \"client_id\":KAKAO_REST_API_KEY,\n",
    "        \"refresh_token\":token[\"refresh_token\"]\n",
    "    }\n",
    "    \n",
    "    response = requests.post(update_url, data=data)\n",
    "\n",
    "    # 요청에 실패했다면,\n",
    "    if response.status_code != 200:\n",
    "        print(\"error! because \", response.json())\n",
    "        token = None\n",
    "    else: # 성공했다면,\n",
    "        # 기존 파일 백업\n",
    "        now = datetime.datetime.now().strftime(\"%Y%m%d_%H%M%S\")\n",
    "        backup_filename = filename+\".\"+ now\n",
    "        os.rename(filename, backup_filename)\n",
    "        \n",
    "        # 갱신된 토큰 저장\n",
    "        token['access_token'] = response.json()['access_token']\n",
    "        save_tokens(filename, tokens)\n",
    "\n",
    "    return token"
   ]
  },
  {
   "cell_type": "code",
   "execution_count": 5,
   "id": "c1772275",
   "metadata": {},
   "outputs": [
    {
     "ename": "NameError",
     "evalue": "name 'tokens' is not defined",
     "output_type": "error",
     "traceback": [
      "\u001b[1;31m---------------------------------------------------------------------------\u001b[0m",
      "\u001b[1;31mNameError\u001b[0m                                 Traceback (most recent call last)",
      "Cell \u001b[1;32mIn[5], line 1\u001b[0m\n\u001b[1;32m----> 1\u001b[0m save_token(\u001b[43mtokens\u001b[49m)\n",
      "\u001b[1;31mNameError\u001b[0m: name 'tokens' is not defined"
     ]
    }
   ],
   "source": [
    "save_token(tokens)\n",
    "#token = refresh_token()"
   ]
  },
  {
   "cell_type": "code",
   "execution_count": 25,
   "id": "1ddaeb08",
   "metadata": {},
   "outputs": [
    {
     "name": "stdout",
     "output_type": "stream",
     "text": [
      "{'access_token': 'LgZEI4OHX_L0V3JbqbWl4u8ANAJpBE-ay8P5MOswCj10aQAAAYnfUm2j', 'token_type': 'bearer', 'expires_in': 21599}\n",
      "{'result_code': 0}\n"
     ]
    }
   ],
   "source": [
    "# 메시지 발송\n",
    "url = \"https://kapi.kakao.com/v2/api/talk/memo/default/send\"\n",
    "\n",
    "\n",
    "headers = {\n",
    "    \"Authorization\": \"Bearer \" + tokens[\"access_token\"]\n",
    "}\n",
    "\n",
    "\n",
    "data = {\n",
    "    \"template_object\" : json.dumps(\n",
    "            {\"object_type\": \"text\",\n",
    "             \"text\": \"https://www.dhlottery.co.kr/gameResult.do?method=byWin&drwNo=1079\",\n",
    "             \"link\": {\n",
    "             \"web_url\": \"https://developers.kakao.com\",\n",
    "             \"mobile_web_url\": \"https://www.dhlottery.co.kr/gameResult.do?method=byWin&drwNo=1079\"\n",
    "            },\n",
    "            \"button_title\": \"1079회 당첨번호 확인\" })\n",
    "}\n",
    "\n",
    "response = requests.post(url, headers=headers, data=data)\n",
    "\n",
    "# 요청에 실패했다면,\n",
    "if response.status_code != 200:\n",
    "    print(\"error! because \", response.json())\n",
    "else: # 성공했다면,\n",
    "    tokens = response.json()\n",
    "    print(tokens)"
   ]
  }
 ],
 "metadata": {
  "kernelspec": {
   "display_name": "Python 3 (ipykernel)",
   "language": "python",
   "name": "python3"
  },
  "language_info": {
   "codemirror_mode": {
    "name": "ipython",
    "version": 3
   },
   "file_extension": ".py",
   "mimetype": "text/x-python",
   "name": "python",
   "nbconvert_exporter": "python",
   "pygments_lexer": "ipython3",
   "version": "3.10.9"
  }
 },
 "nbformat": 4,
 "nbformat_minor": 5
}
