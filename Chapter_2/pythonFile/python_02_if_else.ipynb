{
 "cells": [
  {
   "cell_type": "code",
   "execution_count": 1,
   "id": "6c1a9000",
   "metadata": {},
   "outputs": [],
   "source": [
    "# 10 ~ 115 까지 반복하면서 짝수와 홀수를 확인하는 반복문을 작성하시오.\n",
    "\n",
    "# 예:)\n",
    "# > 10 : 짝수\n",
    "# > 11 : 홀수\n",
    "# > 12 : 짝수\n",
    "# > 13 : 홀수\n",
    "# > 14 : 짝수\n",
    "# > 15 : 홀수\n",
    "# >     .\n",
    "# >     .\n",
    "# >     .\n",
    "# >     ."
   ]
  },
  {
   "cell_type": "code",
   "execution_count": 19,
   "id": "6d3cd66e",
   "metadata": {},
   "outputs": [
    {
     "name": "stdout",
     "output_type": "stream",
     "text": [
      "10 : 짝수\n",
      "11 : 홀수\n",
      "12 : 짝수\n",
      "13 : 홀수\n",
      "14 : 짝수\n",
      "15 : 홀수\n",
      "16 : 짝수\n",
      "17 : 홀수\n",
      "18 : 짝수\n",
      "19 : 홀수\n",
      "20 : 짝수\n",
      "21 : 홀수\n",
      "22 : 짝수\n",
      "23 : 홀수\n",
      "24 : 짝수\n",
      "25 : 홀수\n",
      "26 : 짝수\n",
      "27 : 홀수\n",
      "28 : 짝수\n",
      "29 : 홀수\n",
      "30 : 짝수\n",
      "31 : 홀수\n",
      "32 : 짝수\n",
      "33 : 홀수\n",
      "34 : 짝수\n",
      "35 : 홀수\n",
      "36 : 짝수\n",
      "37 : 홀수\n",
      "38 : 짝수\n",
      "39 : 홀수\n",
      "40 : 짝수\n",
      "41 : 홀수\n",
      "42 : 짝수\n",
      "43 : 홀수\n",
      "44 : 짝수\n",
      "45 : 홀수\n",
      "46 : 짝수\n",
      "47 : 홀수\n",
      "48 : 짝수\n",
      "49 : 홀수\n",
      "50 : 짝수\n",
      "51 : 홀수\n",
      "52 : 짝수\n",
      "53 : 홀수\n",
      "54 : 짝수\n",
      "55 : 홀수\n",
      "56 : 짝수\n",
      "57 : 홀수\n",
      "58 : 짝수\n",
      "59 : 홀수\n",
      "60 : 짝수\n",
      "61 : 홀수\n",
      "62 : 짝수\n",
      "63 : 홀수\n",
      "64 : 짝수\n",
      "65 : 홀수\n",
      "66 : 짝수\n",
      "67 : 홀수\n",
      "68 : 짝수\n",
      "69 : 홀수\n",
      "70 : 짝수\n",
      "71 : 홀수\n",
      "72 : 짝수\n",
      "73 : 홀수\n",
      "74 : 짝수\n",
      "75 : 홀수\n",
      "76 : 짝수\n",
      "77 : 홀수\n",
      "78 : 짝수\n",
      "79 : 홀수\n",
      "80 : 짝수\n",
      "81 : 홀수\n",
      "82 : 짝수\n",
      "83 : 홀수\n",
      "84 : 짝수\n",
      "85 : 홀수\n",
      "86 : 짝수\n",
      "87 : 홀수\n",
      "88 : 짝수\n",
      "89 : 홀수\n",
      "90 : 짝수\n",
      "91 : 홀수\n",
      "92 : 짝수\n",
      "93 : 홀수\n",
      "94 : 짝수\n",
      "95 : 홀수\n",
      "96 : 짝수\n",
      "97 : 홀수\n",
      "98 : 짝수\n",
      "99 : 홀수\n",
      "100 : 짝수\n",
      "101 : 홀수\n",
      "102 : 짝수\n",
      "103 : 홀수\n",
      "104 : 짝수\n",
      "105 : 홀수\n",
      "106 : 짝수\n",
      "107 : 홀수\n",
      "108 : 짝수\n",
      "109 : 홀수\n",
      "110 : 짝수\n",
      "111 : 홀수\n",
      "112 : 짝수\n",
      "113 : 홀수\n",
      "114 : 짝수\n",
      "115 : 홀수\n"
     ]
    }
   ],
   "source": [
    "max_count = 115\n",
    "min_count = 10\n",
    "\n",
    "# for i in range(10, 115 + 1):\n",
    "for i in range(min_count, max_count + 1):\n",
    "    if (i%2) == 0:\n",
    "        print(str(i) + \" : 짝수\")\n",
    "    else:\n",
    "        print(str(i) + \" : 홀수\")"
   ]
  },
  {
   "cell_type": "code",
   "execution_count": 23,
   "id": "6ab69a28",
   "metadata": {},
   "outputs": [
    {
     "name": "stdout",
     "output_type": "stream",
     "text": [
      "상품이름 입력:sda\n"
     ]
    },
    {
     "ename": "AttributeError",
     "evalue": "'str' object has no attribute 'get'",
     "output_type": "error",
     "traceback": [
      "\u001b[1;31m---------------------------------------------------------------------------\u001b[0m",
      "\u001b[1;31mAttributeError\u001b[0m                            Traceback (most recent call last)",
      "Cell \u001b[1;32mIn[23], line 7\u001b[0m\n\u001b[0;32m      1\u001b[0m \u001b[38;5;28mdict\u001b[39m \u001b[38;5;241m=\u001b[39m {\u001b[38;5;124m\"\u001b[39m\u001b[38;5;124mA\u001b[39m\u001b[38;5;124m\"\u001b[39m: \u001b[38;5;241m2\u001b[39m, \u001b[38;5;124m\"\u001b[39m\u001b[38;5;124mB\u001b[39m\u001b[38;5;124m\"\u001b[39m:\u001b[38;5;241m3\u001b[39m, \u001b[38;5;124m\"\u001b[39m\u001b[38;5;124mC\u001b[39m\u001b[38;5;124m\"\u001b[39m:\u001b[38;5;241m4\u001b[39m}\n\u001b[0;32m      4\u001b[0m item \u001b[38;5;241m=\u001b[39m \u001b[38;5;28minput\u001b[39m(\u001b[38;5;124m\"\u001b[39m\u001b[38;5;124m상품이름 입력:\u001b[39m\u001b[38;5;124m\"\u001b[39m)\n\u001b[1;32m----> 7\u001b[0m d \u001b[38;5;241m=\u001b[39m \u001b[43mitem\u001b[49m\u001b[38;5;241;43m.\u001b[39;49m\u001b[43mget\u001b[49m(\u001b[38;5;124m\"\u001b[39m\u001b[38;5;124mD\u001b[39m\u001b[38;5;124m\"\u001b[39m)\n\u001b[0;32m     10\u001b[0m \u001b[38;5;28;01mif\u001b[39;00m \u001b[38;5;129;01mnot\u001b[39;00m d:\n\u001b[0;32m     11\u001b[0m     \u001b[38;5;28mprint\u001b[39m(\u001b[38;5;124m\"\u001b[39m\u001b[38;5;124mzzzzz\u001b[39m\u001b[38;5;124m\"\u001b[39m)\n",
      "\u001b[1;31mAttributeError\u001b[0m: 'str' object has no attribute 'get'"
     ]
    }
   ],
   "source": [
    "dict = {\"A\": 2, \"B\":3, \"C\":4}\n",
    "\n",
    "\n",
    "item = input(\"상품이름 입력:\")\n",
    "\n",
    "\n",
    "if 0 < len(dict):\n",
    "    A = dict.get(item)\n",
    "    if A != None:\n",
    "        if 0 < dict[item]:\n",
    "            dict[item] -= 1\n",
    "            print(\"상품이 정상 판매 되었습니다.\")\n",
    "        else:\n",
    "            print(\"상품 재고가 없습니다.\")\n",
    "    else:\n",
    "        print(item + \"보유 상품이 없습니다.\")\n",
    "else:\n",
    "    print(\"모든 상품이 없습니다.\")"
   ]
  },
  {
   "cell_type": "code",
   "execution_count": 22,
   "id": "1fdb29c0",
   "metadata": {},
   "outputs": [
    {
     "name": "stdout",
     "output_type": "stream",
     "text": [
      "15\n"
     ]
    }
   ],
   "source": [
    "n = 10\n",
    "\n",
    "# n = n + 5\n",
    "# n = 10 + 5\n",
    "n += 5\n",
    "\n",
    "print(n)\n",
    "# 15"
   ]
  },
  {
   "cell_type": "code",
   "execution_count": null,
   "id": "88aa00f3",
   "metadata": {},
   "outputs": [],
   "source": [
    "n = 10\n",
    "\n",
    "# n = 10 - 5\n",
    "n -= 5\n",
    "\n",
    "\n",
    "print(n)"
   ]
  },
  {
   "cell_type": "code",
   "execution_count": 26,
   "id": "892ca67a",
   "metadata": {},
   "outputs": [
    {
     "name": "stdout",
     "output_type": "stream",
     "text": [
      "참\n"
     ]
    }
   ],
   "source": [
    "if not False:\n",
    "    print(\"참\")"
   ]
  },
  {
   "cell_type": "code",
   "execution_count": 33,
   "id": "b282fd3b",
   "metadata": {},
   "outputs": [
    {
     "name": "stdout",
     "output_type": "stream",
     "text": [
      "7\n",
      "10\n"
     ]
    }
   ],
   "source": [
    "# 1 = 00000001\n",
    "# 2 = 00000010\n",
    "# 3 = 00000011 \n",
    "# 4 = 00000100\n",
    "# 5 = 00000101\n",
    "# 6 = 00000110\n",
    "# 7 = 00000111\n",
    "# 8 = 00001000\n",
    "# 9 = 00001001\n",
    "# 10 = 00001010\n",
    "# 11 = 00001011\n",
    "# 12 = 00001100\n",
    "# 13 = 00001101\n",
    "# 14 = 00001110\n",
    "# 15 = 00001111\n",
    "# 16 = 00010000\n",
    "\n",
    "\n",
    "num1 = 10  # 1010\n",
    "num2 = 7   # 0111\n",
    "\n",
    "num1 = (num1 ^ num2)\n",
    "num2 = (num1 ^ num2)\n",
    "num1 = (num1 ^ num2)\n",
    "\n",
    "print(num1)  \n",
    "print(num2)"
   ]
  }
 ],
 "metadata": {
  "kernelspec": {
   "display_name": "Python 3 (ipykernel)",
   "language": "python",
   "name": "python3"
  },
  "language_info": {
   "codemirror_mode": {
    "name": "ipython",
    "version": 3
   },
   "file_extension": ".py",
   "mimetype": "text/x-python",
   "name": "python",
   "nbconvert_exporter": "python",
   "pygments_lexer": "ipython3",
   "version": "3.10.9"
  }
 },
 "nbformat": 4,
 "nbformat_minor": 5
}
