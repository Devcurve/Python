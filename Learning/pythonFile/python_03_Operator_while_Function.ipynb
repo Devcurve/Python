{
 "cells": [
  {
   "cell_type": "code",
   "execution_count": 13,
   "id": "5342d73b",
   "metadata": {},
   "outputs": [
    {
     "name": "stdout",
     "output_type": "stream",
     "text": [
      "7\n"
     ]
    }
   ],
   "source": [
    "#result = 1 | 3 | 4\n",
    "result = 1 | 2 | 4\n",
    "print(result)\n",
    "\n",
    "#    0000 0001 = 1\n",
    "#    0000 0011 = 3\n",
    "# or 0000 0100 = 4\n",
    "#------------------\n",
    "#    0000 0101 = 7\n",
    "\n",
    "# 정수 or 연산은 비트연산으로 진행된다."
   ]
  },
  {
   "cell_type": "code",
   "execution_count": 30,
   "id": "8d3d8b66",
   "metadata": {},
   "outputs": [
    {
     "name": "stdout",
     "output_type": "stream",
     "text": [
      "False\n"
     ]
    }
   ],
   "source": [
    "num = None\n",
    "\n",
    "#num 에 값이 들어가면 True\n",
    "#num = 10\n",
    "\n",
    "if num:\n",
    "    print(\"True\")\n",
    "else:\n",
    "    print(\"False\")"
   ]
  },
  {
   "cell_type": "code",
   "execution_count": 31,
   "id": "115a0d61",
   "metadata": {},
   "outputs": [
    {
     "name": "stdout",
     "output_type": "stream",
     "text": [
      "True\n"
     ]
    }
   ],
   "source": [
    "num = None\n",
    "\n",
    "# not None == not num 서로 같음. = True\n",
    "if not num:\n",
    "    print(\"True\")\n",
    "else:\n",
    "    print(\"False\")"
   ]
  },
  {
   "cell_type": "code",
   "execution_count": 32,
   "id": "aae9b32f",
   "metadata": {},
   "outputs": [
    {
     "name": "stdout",
     "output_type": "stream",
     "text": [
      "20\n",
      "10\n"
     ]
    }
   ],
   "source": [
    "num1 = 10\n",
    "num2 = 20\n",
    "\n",
    "num1 = num1 ^ num2\n",
    "num2 = num1 ^ num2\n",
    "num1 = num1 ^ num2\n",
    "\n",
    "print(num1)\n",
    "print(num2)"
   ]
  },
  {
   "cell_type": "code",
   "execution_count": 39,
   "id": "521c603a",
   "metadata": {},
   "outputs": [
    {
     "name": "stdout",
     "output_type": "stream",
     "text": [
      "1\n",
      "2\n",
      "3\n",
      "4\n",
      "5\n"
     ]
    }
   ],
   "source": [
    "#반복문\n",
    "count = 0\n",
    "studentMax = 5\n",
    "\n",
    "while count < studentMax:\n",
    "    count += 1\n",
    "    print(count)"
   ]
  },
  {
   "cell_type": "code",
   "execution_count": 1,
   "id": "cc83c5f5",
   "metadata": {},
   "outputs": [],
   "source": [
    "name = \"\""
   ]
  },
  {
   "cell_type": "code",
   "execution_count": 13,
   "id": "6844d054",
   "metadata": {},
   "outputs": [],
   "source": [
    "def setNames():\n",
    "    names = []\n",
    "    for element in range(0, 3):\n",
    "        str = input(\"이름 입력: \")\n",
    "        names.append(str)\n",
    "    return names"
   ]
  },
  {
   "cell_type": "code",
   "execution_count": 14,
   "id": "f5e5bbfd",
   "metadata": {},
   "outputs": [
    {
     "name": "stdout",
     "output_type": "stream",
     "text": [
      "이름 입력: 홍길동\n",
      "이름 입력: 임꺽정\n",
      "이름 입력: 이몽룡\n",
      "['홍길동', '임꺽정', '이몽룡']\n"
     ]
    }
   ],
   "source": [
    "name = setNames()\n",
    "print(name)"
   ]
  },
  {
   "cell_type": "code",
   "execution_count": 16,
   "id": "5ec951b9",
   "metadata": {},
   "outputs": [],
   "source": [
    "def addItem():\n",
    "    name = input(\"상품이름 : \")\n",
    "    sizeX = input(\"넓이: \")\n",
    "    sizeY = input(\"폭: \")\n",
    "    sizeZ = input(\"높이: \")\n",
    "    location = input(\"위치: \")\n",
    "    price = input(\"가격: \")\n",
    "    return (name, [sizeX, sizeY, sizeZ], location, price)"
   ]
  },
  {
   "cell_type": "code",
   "execution_count": 17,
   "id": "ffa749bd",
   "metadata": {},
   "outputs": [
    {
     "name": "stdout",
     "output_type": "stream",
     "text": [
      "상품이름 : Python을 활용한 자동화 프로그래밍\n",
      "넓이: 21cm\n",
      "폭: 3cm\n",
      "높이: 29.7cm\n",
      "위치: H-3\n",
      "가격: 18500\n",
      "('Python을 활용한 자동화 프로그래밍', ['21cm', '3cm', '29.7cm'], 'H-3', '18500')\n"
     ]
    }
   ],
   "source": [
    "tuple = addItem()\n",
    "print(tuple)"
   ]
  }
 ],
 "metadata": {
  "kernelspec": {
   "display_name": "Python 3 (ipykernel)",
   "language": "python",
   "name": "python3"
  },
  "language_info": {
   "codemirror_mode": {
    "name": "ipython",
    "version": 3
   },
   "file_extension": ".py",
   "mimetype": "text/x-python",
   "name": "python",
   "nbconvert_exporter": "python",
   "pygments_lexer": "ipython3",
   "version": "3.10.9"
  }
 },
 "nbformat": 4,
 "nbformat_minor": 5
}
