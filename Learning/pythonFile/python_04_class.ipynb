{
 "cells": [
  {
   "cell_type": "code",
   "execution_count": 9,
   "id": "65edfba2",
   "metadata": {
    "scrolled": true
   },
   "outputs": [
    {
     "name": "stdout",
     "output_type": "stream",
     "text": [
      "10\n"
     ]
    }
   ],
   "source": [
    "class Box:\n",
    "    def __init__(self, number):\n",
    "        self.number = number  \n",
    "    # Box 클래스에 number 라는 필드값이 생성됩니다.\n",
    "    # 그리고 그 안에 숫자를 넣습니다. 보통 이것을 초기화 라고 이야기 합니다.\n",
    "\n",
    "box = Box(10)\n",
    "print(box.number)"
   ]
  },
  {
   "cell_type": "code",
   "execution_count": 18,
   "id": "b0f10014",
   "metadata": {},
   "outputs": [
    {
     "name": "stdout",
     "output_type": "stream",
     "text": [
      "이 박스 안에는 [10] 이 있어요!\n"
     ]
    }
   ],
   "source": [
    "class Box:\n",
    "    def __init__(self, number):\n",
    "        self.number = number  \n",
    "\n",
    "    def __str__(self):\n",
    "        return f\"이 박스 안에는 [{self.number}] 이 있어요!\"\n",
    "\n",
    "    # f\"%#@$#%#@\" 문자열 앞에 'f' 를 넣는 이유는...\n",
    "    # 문자열 내부에 '{self.number}' 이러한 방식으로 변수를 사용할 수 있습니다.\n",
    "    # python 3.6 이상 버전에서만 사용 가능합니다.\n",
    "\n",
    "box = Box(10)\n",
    "print(box)"
   ]
  },
  {
   "cell_type": "code",
   "execution_count": 59,
   "id": "72de6ed9",
   "metadata": {},
   "outputs": [
    {
     "name": "stdout",
     "output_type": "stream",
     "text": [
      "이 박스 안에는 값은 8 입니다.\n",
      "이 박스 안에는 값은 8 입니다.\n"
     ]
    }
   ],
   "source": [
    "class Box:\n",
    "    def __init__(self, number):\n",
    "        self.number = number  # 박스 안에 숫자를 넣습니다.\n",
    "        \n",
    "    def __add__(self, other):\n",
    "        return Box(self.number + other.number)  # 두 박스를 더하면, 숫자가 더해진 새 박스를 만듭니다.\n",
    "\n",
    "    def __str__(self):\n",
    "        return f\"이 박스 안에는 값은 {self.number} 입니다.\"  # 박스를 설명하는 문자열을 만듭니다.\n",
    "\n",
    "\n",
    "# 각각 5와 3으로 초기화 합니다.\n",
    "box1 = Box(5)\n",
    "box2 = Box(3)\n",
    "\n",
    "# 두 객체를 더하면, 결과값이 반환된 새로운 객체가 만들어집니다.\n",
    "print(box1 + box2)\n",
    "\n",
    "box3 = box1 + box2\n",
    "\n",
    "# 객체끼리 더했지만 객체 내부에 생성된 값이 변경된 것이 핵심입니다.\n",
    "\n",
    "# 결과 출력\n",
    "\n",
    "\n",
    "print(box3)"
   ]
  },
  {
   "cell_type": "code",
   "execution_count": 29,
   "id": "79e2f1f6",
   "metadata": {},
   "outputs": [
    {
     "name": "stdout",
     "output_type": "stream",
     "text": [
      "이 박스 안에는 2가 있어요!\n"
     ]
    }
   ],
   "source": [
    "class Box:\n",
    "    def __init__(self, number):\n",
    "        self.number = number  # 박스 안에 숫자를 넣습니다.\n",
    "\n",
    "    def __sub__(self, other):\n",
    "        return Box(self.number - other.number)  # 두 박스를 빼면, 숫자가 뺀 값이 들어간 새 박스를 만듭니다.\n",
    "\n",
    "    def __str__(self):\n",
    "        return f\"이 박스 안에는 {self.number}가 있어요!\"  # 박스를 설명하는 문자열을 만듭니다.\n",
    "\n",
    "    \n",
    "# 각각 5와 3으로 초기화 합니다.\n",
    "box1 = Box(5)\n",
    "box2 = Box(3)\n",
    "\n",
    "# 두 객체를 더하면, 결과값이 반환된 새로운 객체가 만들어집니다.\n",
    "box3 = box1 - box2\n",
    "\n",
    "# 객체끼리 더했지만 객체 내부에 생성된 값이 변경된 것이 핵심입니다.\n",
    "\n",
    "# 결과 출력\n",
    "\n",
    "\n",
    "print(box3)"
   ]
  },
  {
   "cell_type": "code",
   "execution_count": 54,
   "id": "e7ec356a",
   "metadata": {},
   "outputs": [
    {
     "name": "stdout",
     "output_type": "stream",
     "text": [
      "3\n"
     ]
    }
   ],
   "source": [
    "class Box:\n",
    "    def __init__(self):\n",
    "        self.apples = []  # 바구니 안에 사과를 넣습니다.\n",
    "\n",
    "    def add_apple(self, apple):\n",
    "        self.apples.append(apple)  # 사과를 바구니에 추가합니다.\n",
    "        \n",
    "    def __len__(self):\n",
    "        return len(self.apples)  # 바구니 안의 사과 개수를 반환합니다.\n",
    "\n",
    "    \n",
    "#box = [\"사과1\", \"사과2\", \"사과3\"]\n",
    "\n",
    "box = Box()\n",
    "box.add_apple(\"사과1\")\n",
    "box.add_apple(\"사과2\")\n",
    "box.add_apple(\"사과3\")\n",
    "    \n",
    "print(len(box))"
   ]
  },
  {
   "cell_type": "code",
   "execution_count": 55,
   "id": "a2c657f3",
   "metadata": {},
   "outputs": [
    {
     "name": "stdout",
     "output_type": "stream",
     "text": [
      "apple1\n",
      "apple2\n"
     ]
    }
   ],
   "source": [
    "class Box:\n",
    "    def __init__(self):\n",
    "        self.apples = []  # 바구니 안에 사과를 넣습니다.\n",
    "\n",
    "    def add_apple(self, apple):\n",
    "        self.apples.append(apple)  # 사과를 바구니에 추가합니다.\n",
    "\n",
    "    def __getitem__(self, index):\n",
    "        return self.apples[index]  # 바구니 안의 사과를 인덱스로 반환합니다.\n",
    "\n",
    "box = Box()  # 바구니를 만듭니다.\n",
    "\n",
    "box.add_apple('apple1')  # 사과를 바구니에 넣습니다.\n",
    "box.add_apple('apple2')  # 또 다른 사과를 바구니에 넣습니다.\n",
    "\n",
    "# 객체를 생성했지만 리스트와 같은 방식으로 사용할 수 있다.\n",
    "print(box[0])\n",
    "print(box[1])"
   ]
  },
  {
   "cell_type": "code",
   "execution_count": 62,
   "id": "8dd87c2a",
   "metadata": {},
   "outputs": [
    {
     "name": "stdout",
     "output_type": "stream",
     "text": [
      "item1\n",
      "new_item\n",
      "item2\n"
     ]
    }
   ],
   "source": [
    "class Box:\n",
    "    def __init__(self):\n",
    "        self.items = []  # 박스 안에 아이템을 넣습니다.\n",
    "\n",
    "    def add_item(self, item):\n",
    "        self.items.append(item)  # 아이템을 박스에 추가합니다.\n",
    "\n",
    "    def __getitem__(self):\n",
    "        return self.items  # 박스 안의 아이템을 인덱스로 반환합니다.\n",
    "\n",
    "    def __getitem__(self, index):\n",
    "        return self.items[index]  # 박스 안의 아이템을 인덱스로 반환합니다.\n",
    "\n",
    "    def __setitem__(self, index, value):\n",
    "        self.items[index] = value  # 박스 안의 아이템을 인덱스로 할당하거나 변경합니다.\n",
    "\n",
    "box = Box()  # 박스를 만듭니다.\n",
    "\n",
    "box.add_item('item1')  # 아이템을 박스에 넣습니다.\n",
    "box.add_item('item2')  # 또 다른 아이템을 박스에 넣습니다.\n",
    "\n",
    "print(box[0])  # 박스 안의 첫 번째 아이템을 출력합니다.\n",
    "\n",
    "\n",
    "\n",
    "box[0] = 'new_item'  # 박스 안의 첫 번째 아이템을 변경합니다.\n",
    "\n",
    "print(box[0])  # 박스 안의 첫 번째 아이템을 출력합니다.\n",
    "print(box[1])  # 박스 안의 두 번째 아이템을 출력합니다.\n"
   ]
  },
  {
   "cell_type": "code",
   "execution_count": 58,
   "id": "79f911e9",
   "metadata": {},
   "outputs": [
    {
     "name": "stdout",
     "output_type": "stream",
     "text": [
      "10\n"
     ]
    }
   ],
   "source": [
    "num1 = 10\n",
    "num2 = 20\n",
    "\n",
    "number = num1\n",
    "number = 20\n",
    "\n",
    "print(num1)\n",
    "\n"
   ]
  },
  {
   "cell_type": "code",
   "execution_count": 63,
   "id": "3a69d223",
   "metadata": {},
   "outputs": [
    {
     "name": "stdout",
     "output_type": "stream",
     "text": [
      "item1\n",
      "item2\n"
     ]
    }
   ],
   "source": [
    "class Box:\n",
    "    def __init__(self):\n",
    "        self.items = []  # 박스 안에 아이템을 넣습니다.\n",
    "\n",
    "    def add_item(self, item):\n",
    "        self.items.append(item)  # 아이템을 박스에 추가합니다.\n",
    "\n",
    "    def __getitem__(self, index):\n",
    "        return self.items[index]  # 박스 안의 아이템을 인덱스로 반환합니다.\n",
    "\n",
    "    def __delitem__(self, index):\n",
    "        del self.items[index]  # 박스 안의 아이템을 인덱스로 삭제합니다.\n",
    "\n",
    "box = Box()  # 박스를 만듭니다.\n",
    "\n",
    "box.add_item('item1')  # 아이템을 박스에 넣습니다.\n",
    "box.add_item('item2')  # 또 다른 아이템을 박스에 넣습니다.\n",
    "\n",
    "print(box[0])  # 박스 안의 첫 번째 아이템을 출력합니다.\n",
    "\n",
    "del box[0]  # 박스 안의 첫 번째 아이템을 삭제합니다.\n",
    "\n",
    "print(box[0])  # 박스 안의 첫 번째 아이템을 출력합니다."
   ]
  }
 ],
 "metadata": {
  "kernelspec": {
   "display_name": "Python 3 (ipykernel)",
   "language": "python",
   "name": "python3"
  },
  "language_info": {
   "codemirror_mode": {
    "name": "ipython",
    "version": 3
   },
   "file_extension": ".py",
   "mimetype": "text/x-python",
   "name": "python",
   "nbconvert_exporter": "python",
   "pygments_lexer": "ipython3",
   "version": "3.10.9"
  }
 },
 "nbformat": 4,
 "nbformat_minor": 5
}
